{
  "cells": [
    {
      "cell_type": "markdown",
      "metadata": {
        "id": "sW90QMIEsMqE"
      },
      "source": [
        "# Asu Güvenli Final Project\n"
      ]
    },
    {
      "cell_type": "code",
      "execution_count": null,
      "metadata": {
        "id": "rv3RGfVqtNbo"
      },
      "outputs": [],
      "source": [
        "import pandas as pd\n",
        "import numpy as np\n",
        "import matplotlib.pyplot as plt\n",
        "\n",
        "import h5py\n",
        "import os \n",
        "import datetime as dt\n",
        "import six\n",
        "import numpy as np\n",
        "from tensorflow import keras\n",
        "import keras\n",
        "\n",
        "#import seaborn as sns\n",
        "import sklearn as sk\n",
        "#from sklearn import datasets\n"
      ]
    },
    {
      "cell_type": "code",
      "execution_count": null,
      "metadata": {
        "id": "bPE3gFR7cMQx"
      },
      "outputs": [],
      "source": [
        "from google.colab import auth\n",
        "auth.authenticate_user()"
      ]
    },
    {
      "cell_type": "code",
      "execution_count": null,
      "metadata": {
        "colab": {
          "base_uri": "https://localhost:8080/"
        },
        "id": "Zt2YnrAsb4n8",
        "outputId": "d900a420-5cfb-4cd5-b655-b455c8dbcc87"
      },
      "outputs": [
        {
          "output_type": "stream",
          "name": "stdout",
          "text": [
            "Mounted at /drive\n"
          ]
        }
      ],
      "source": [
        "\n",
        "from google.colab import drive\n",
        "\n",
        "drive.mount('/drive',force_remount=True)"
      ]
    },
    {
      "cell_type": "code",
      "execution_count": null,
      "metadata": {
        "id": "i6FvceVgsSZc"
      },
      "outputs": [],
      "source": [
        "df_sig=pd.read_hdf('df_signal.h5')\n",
        "df_bkg=pd.read_hdf('df_background.h5')\n",
        "len(df_sig.keys())\n",
        "len(df_bkg.keys())\n",
        "df_sig[\"outcome\"]=1\n",
        "df_bkg[\"outcome\"]=0\n"
      ]
    },
    {
      "cell_type": "code",
      "execution_count": null,
      "metadata": {
        "id": "rQcs50m1g54f",
        "colab": {
          "base_uri": "https://localhost:8080/",
          "height": 519
        },
        "outputId": "8c4f99ac-d175-42b7-8c82-0461c1e85b51"
      },
      "outputs": [
        {
          "output_type": "execute_result",
          "data": {
            "text/html": [
              "\n",
              "  <div id=\"df-826cf433-c41f-402c-aa8f-d9db7fa1b8f9\">\n",
              "    <div class=\"colab-df-container\">\n",
              "      <div>\n",
              "<style scoped>\n",
              "    .dataframe tbody tr th:only-of-type {\n",
              "        vertical-align: middle;\n",
              "    }\n",
              "\n",
              "    .dataframe tbody tr th {\n",
              "        vertical-align: top;\n",
              "    }\n",
              "\n",
              "    .dataframe thead th {\n",
              "        text-align: right;\n",
              "    }\n",
              "</style>\n",
              "<table border=\"1\" class=\"dataframe\">\n",
              "  <thead>\n",
              "    <tr style=\"text-align: right;\">\n",
              "      <th></th>\n",
              "      <th>br_njets</th>\n",
              "      <th>br_nbjets</th>\n",
              "      <th>br_scalar_ht</th>\n",
              "      <th>br_jet_pt_1</th>\n",
              "      <th>br_jet_pt_2</th>\n",
              "      <th>br_jet_pt_3</th>\n",
              "      <th>br_jet_pt_4</th>\n",
              "      <th>br_met</th>\n",
              "      <th>br_met_phi</th>\n",
              "      <th>br_sphericity</th>\n",
              "      <th>br_aplanarity</th>\n",
              "      <th>br_fox_wolfram_1</th>\n",
              "      <th>br_fox_wolfram_2</th>\n",
              "      <th>br_fox_wolfram_3</th>\n",
              "      <th>br_fox_wolfram_4</th>\n",
              "      <th>br_w_pt</th>\n",
              "      <th>br_w_eta</th>\n",
              "      <th>br_w_phi</th>\n",
              "      <th>br_operator_4</th>\n",
              "      <th>br_operator_9</th>\n",
              "      <th>br_operator_10</th>\n",
              "      <th>br_operator_12</th>\n",
              "      <th>br_operator_14</th>\n",
              "      <th>outcome</th>\n",
              "    </tr>\n",
              "    <tr>\n",
              "      <th>entry</th>\n",
              "      <th></th>\n",
              "      <th></th>\n",
              "      <th></th>\n",
              "      <th></th>\n",
              "      <th></th>\n",
              "      <th></th>\n",
              "      <th></th>\n",
              "      <th></th>\n",
              "      <th></th>\n",
              "      <th></th>\n",
              "      <th></th>\n",
              "      <th></th>\n",
              "      <th></th>\n",
              "      <th></th>\n",
              "      <th></th>\n",
              "      <th></th>\n",
              "      <th></th>\n",
              "      <th></th>\n",
              "      <th></th>\n",
              "      <th></th>\n",
              "      <th></th>\n",
              "      <th></th>\n",
              "      <th></th>\n",
              "      <th></th>\n",
              "    </tr>\n",
              "  </thead>\n",
              "  <tbody>\n",
              "    <tr>\n",
              "      <th>137514</th>\n",
              "      <td>5</td>\n",
              "      <td>2</td>\n",
              "      <td>330.198975</td>\n",
              "      <td>73.681427</td>\n",
              "      <td>53.595226</td>\n",
              "      <td>39.922836</td>\n",
              "      <td>37.127396</td>\n",
              "      <td>58.718491</td>\n",
              "      <td>-0.662123</td>\n",
              "      <td>0.216696</td>\n",
              "      <td>0.036689</td>\n",
              "      <td>0.618249</td>\n",
              "      <td>0.484659</td>\n",
              "      <td>0.335649</td>\n",
              "      <td>0.247044</td>\n",
              "      <td>29.852385</td>\n",
              "      <td>-2.785993</td>\n",
              "      <td>1.714026</td>\n",
              "      <td>41161712.0</td>\n",
              "      <td>-1.245439e+15</td>\n",
              "      <td>3.315701e+14</td>\n",
              "      <td>-5.637014e+16</td>\n",
              "      <td>4.460551e+09</td>\n",
              "      <td>1</td>\n",
              "    </tr>\n",
              "    <tr>\n",
              "      <th>7462</th>\n",
              "      <td>8</td>\n",
              "      <td>2</td>\n",
              "      <td>390.699554</td>\n",
              "      <td>68.362610</td>\n",
              "      <td>65.015228</td>\n",
              "      <td>58.665642</td>\n",
              "      <td>36.228336</td>\n",
              "      <td>35.742607</td>\n",
              "      <td>-1.275542</td>\n",
              "      <td>0.149175</td>\n",
              "      <td>0.062446</td>\n",
              "      <td>0.597870</td>\n",
              "      <td>0.163577</td>\n",
              "      <td>0.312613</td>\n",
              "      <td>0.135360</td>\n",
              "      <td>44.859184</td>\n",
              "      <td>-2.762578</td>\n",
              "      <td>1.955093</td>\n",
              "      <td>-199021408.0</td>\n",
              "      <td>7.734131e+15</td>\n",
              "      <td>5.091725e+13</td>\n",
              "      <td>-1.056754e+17</td>\n",
              "      <td>-2.417272e+09</td>\n",
              "      <td>1</td>\n",
              "    </tr>\n",
              "    <tr>\n",
              "      <th>50407</th>\n",
              "      <td>4</td>\n",
              "      <td>2</td>\n",
              "      <td>559.584106</td>\n",
              "      <td>189.881973</td>\n",
              "      <td>153.482208</td>\n",
              "      <td>95.193481</td>\n",
              "      <td>60.106327</td>\n",
              "      <td>137.876297</td>\n",
              "      <td>0.915465</td>\n",
              "      <td>0.205960</td>\n",
              "      <td>0.046819</td>\n",
              "      <td>0.629859</td>\n",
              "      <td>0.205511</td>\n",
              "      <td>0.407454</td>\n",
              "      <td>0.191610</td>\n",
              "      <td>152.081818</td>\n",
              "      <td>-0.350069</td>\n",
              "      <td>-2.580706</td>\n",
              "      <td>-76211424.0</td>\n",
              "      <td>-1.738652e+16</td>\n",
              "      <td>-5.899553e+16</td>\n",
              "      <td>3.514193e+18</td>\n",
              "      <td>-6.080721e+08</td>\n",
              "      <td>1</td>\n",
              "    </tr>\n",
              "    <tr>\n",
              "      <th>131428</th>\n",
              "      <td>6</td>\n",
              "      <td>2</td>\n",
              "      <td>814.332703</td>\n",
              "      <td>221.185822</td>\n",
              "      <td>179.267960</td>\n",
              "      <td>144.325668</td>\n",
              "      <td>101.090401</td>\n",
              "      <td>38.521660</td>\n",
              "      <td>-0.193794</td>\n",
              "      <td>0.341757</td>\n",
              "      <td>0.051482</td>\n",
              "      <td>0.594009</td>\n",
              "      <td>0.133321</td>\n",
              "      <td>0.262014</td>\n",
              "      <td>0.154322</td>\n",
              "      <td>208.270050</td>\n",
              "      <td>-0.337396</td>\n",
              "      <td>0.310398</td>\n",
              "      <td>614292800.0</td>\n",
              "      <td>1.116414e+17</td>\n",
              "      <td>2.283411e+16</td>\n",
              "      <td>-1.484122e+19</td>\n",
              "      <td>-2.905416e+10</td>\n",
              "      <td>1</td>\n",
              "    </tr>\n",
              "    <tr>\n",
              "      <th>157654</th>\n",
              "      <td>5</td>\n",
              "      <td>3</td>\n",
              "      <td>362.953705</td>\n",
              "      <td>147.456558</td>\n",
              "      <td>71.506134</td>\n",
              "      <td>45.088341</td>\n",
              "      <td>25.850458</td>\n",
              "      <td>118.129402</td>\n",
              "      <td>0.392996</td>\n",
              "      <td>0.073905</td>\n",
              "      <td>0.029400</td>\n",
              "      <td>0.662838</td>\n",
              "      <td>0.604224</td>\n",
              "      <td>0.514872</td>\n",
              "      <td>0.428572</td>\n",
              "      <td>123.292320</td>\n",
              "      <td>-1.901527</td>\n",
              "      <td>-2.604402</td>\n",
              "      <td>-295616544.0</td>\n",
              "      <td>1.805029e+16</td>\n",
              "      <td>7.884971e+15</td>\n",
              "      <td>5.488899e+16</td>\n",
              "      <td>2.145621e+10</td>\n",
              "      <td>1</td>\n",
              "    </tr>\n",
              "    <tr>\n",
              "      <th>...</th>\n",
              "      <td>...</td>\n",
              "      <td>...</td>\n",
              "      <td>...</td>\n",
              "      <td>...</td>\n",
              "      <td>...</td>\n",
              "      <td>...</td>\n",
              "      <td>...</td>\n",
              "      <td>...</td>\n",
              "      <td>...</td>\n",
              "      <td>...</td>\n",
              "      <td>...</td>\n",
              "      <td>...</td>\n",
              "      <td>...</td>\n",
              "      <td>...</td>\n",
              "      <td>...</td>\n",
              "      <td>...</td>\n",
              "      <td>...</td>\n",
              "      <td>...</td>\n",
              "      <td>...</td>\n",
              "      <td>...</td>\n",
              "      <td>...</td>\n",
              "      <td>...</td>\n",
              "      <td>...</td>\n",
              "      <td>...</td>\n",
              "    </tr>\n",
              "    <tr>\n",
              "      <th>160284</th>\n",
              "      <td>7</td>\n",
              "      <td>4</td>\n",
              "      <td>327.267456</td>\n",
              "      <td>69.933327</td>\n",
              "      <td>64.772446</td>\n",
              "      <td>38.755852</td>\n",
              "      <td>38.053097</td>\n",
              "      <td>154.295563</td>\n",
              "      <td>-0.439451</td>\n",
              "      <td>0.387638</td>\n",
              "      <td>0.070293</td>\n",
              "      <td>0.577900</td>\n",
              "      <td>0.213861</td>\n",
              "      <td>0.225661</td>\n",
              "      <td>0.170192</td>\n",
              "      <td>53.556057</td>\n",
              "      <td>1.617849</td>\n",
              "      <td>-1.607153</td>\n",
              "      <td>18404944.0</td>\n",
              "      <td>8.161467e+14</td>\n",
              "      <td>-2.008146e+14</td>\n",
              "      <td>-9.621417e+16</td>\n",
              "      <td>-5.241399e+09</td>\n",
              "      <td>1</td>\n",
              "    </tr>\n",
              "    <tr>\n",
              "      <th>186688</th>\n",
              "      <td>5</td>\n",
              "      <td>3</td>\n",
              "      <td>313.637543</td>\n",
              "      <td>68.969521</td>\n",
              "      <td>54.629089</td>\n",
              "      <td>37.527977</td>\n",
              "      <td>33.972958</td>\n",
              "      <td>32.135426</td>\n",
              "      <td>2.638253</td>\n",
              "      <td>0.297437</td>\n",
              "      <td>0.041156</td>\n",
              "      <td>0.608344</td>\n",
              "      <td>0.464133</td>\n",
              "      <td>0.316202</td>\n",
              "      <td>0.251919</td>\n",
              "      <td>48.476048</td>\n",
              "      <td>2.157953</td>\n",
              "      <td>-0.273657</td>\n",
              "      <td>-76468432.0</td>\n",
              "      <td>-3.401159e+13</td>\n",
              "      <td>-4.179425e+14</td>\n",
              "      <td>9.687233e+16</td>\n",
              "      <td>-2.035121e+09</td>\n",
              "      <td>1</td>\n",
              "    </tr>\n",
              "    <tr>\n",
              "      <th>136263</th>\n",
              "      <td>5</td>\n",
              "      <td>2</td>\n",
              "      <td>387.919647</td>\n",
              "      <td>98.783394</td>\n",
              "      <td>98.741898</td>\n",
              "      <td>94.392586</td>\n",
              "      <td>32.873577</td>\n",
              "      <td>82.833443</td>\n",
              "      <td>-2.532946</td>\n",
              "      <td>0.512933</td>\n",
              "      <td>0.111600</td>\n",
              "      <td>0.611389</td>\n",
              "      <td>0.190777</td>\n",
              "      <td>0.222307</td>\n",
              "      <td>0.190015</td>\n",
              "      <td>8.359825</td>\n",
              "      <td>-3.107697</td>\n",
              "      <td>0.695970</td>\n",
              "      <td>-112575656.0</td>\n",
              "      <td>1.956915e+15</td>\n",
              "      <td>2.072230e+16</td>\n",
              "      <td>-2.223117e+17</td>\n",
              "      <td>7.523881e+09</td>\n",
              "      <td>1</td>\n",
              "    </tr>\n",
              "    <tr>\n",
              "      <th>95911</th>\n",
              "      <td>5</td>\n",
              "      <td>2</td>\n",
              "      <td>366.607239</td>\n",
              "      <td>105.321892</td>\n",
              "      <td>83.499252</td>\n",
              "      <td>57.761921</td>\n",
              "      <td>29.295284</td>\n",
              "      <td>34.240028</td>\n",
              "      <td>-2.272641</td>\n",
              "      <td>0.111172</td>\n",
              "      <td>0.017326</td>\n",
              "      <td>0.643086</td>\n",
              "      <td>0.544950</td>\n",
              "      <td>0.448466</td>\n",
              "      <td>0.399811</td>\n",
              "      <td>71.079300</td>\n",
              "      <td>-0.728598</td>\n",
              "      <td>0.019062</td>\n",
              "      <td>121498128.0</td>\n",
              "      <td>1.899836e+16</td>\n",
              "      <td>1.202298e+17</td>\n",
              "      <td>-9.282451e+17</td>\n",
              "      <td>-9.233859e+09</td>\n",
              "      <td>1</td>\n",
              "    </tr>\n",
              "    <tr>\n",
              "      <th>9249</th>\n",
              "      <td>6</td>\n",
              "      <td>2</td>\n",
              "      <td>387.270294</td>\n",
              "      <td>119.910530</td>\n",
              "      <td>90.459152</td>\n",
              "      <td>45.832951</td>\n",
              "      <td>43.746067</td>\n",
              "      <td>69.595337</td>\n",
              "      <td>0.939023</td>\n",
              "      <td>0.518639</td>\n",
              "      <td>0.104779</td>\n",
              "      <td>0.608367</td>\n",
              "      <td>0.152783</td>\n",
              "      <td>0.156639</td>\n",
              "      <td>0.258115</td>\n",
              "      <td>138.659866</td>\n",
              "      <td>0.765826</td>\n",
              "      <td>-1.763975</td>\n",
              "      <td>34859156.0</td>\n",
              "      <td>1.988354e+15</td>\n",
              "      <td>1.206948e+16</td>\n",
              "      <td>-5.398825e+17</td>\n",
              "      <td>-3.439825e+09</td>\n",
              "      <td>1</td>\n",
              "    </tr>\n",
              "  </tbody>\n",
              "</table>\n",
              "<p>205226 rows × 24 columns</p>\n",
              "</div>\n",
              "      <button class=\"colab-df-convert\" onclick=\"convertToInteractive('df-826cf433-c41f-402c-aa8f-d9db7fa1b8f9')\"\n",
              "              title=\"Convert this dataframe to an interactive table.\"\n",
              "              style=\"display:none;\">\n",
              "        \n",
              "  <svg xmlns=\"http://www.w3.org/2000/svg\" height=\"24px\"viewBox=\"0 0 24 24\"\n",
              "       width=\"24px\">\n",
              "    <path d=\"M0 0h24v24H0V0z\" fill=\"none\"/>\n",
              "    <path d=\"M18.56 5.44l.94 2.06.94-2.06 2.06-.94-2.06-.94-.94-2.06-.94 2.06-2.06.94zm-11 1L8.5 8.5l.94-2.06 2.06-.94-2.06-.94L8.5 2.5l-.94 2.06-2.06.94zm10 10l.94 2.06.94-2.06 2.06-.94-2.06-.94-.94-2.06-.94 2.06-2.06.94z\"/><path d=\"M17.41 7.96l-1.37-1.37c-.4-.4-.92-.59-1.43-.59-.52 0-1.04.2-1.43.59L10.3 9.45l-7.72 7.72c-.78.78-.78 2.05 0 2.83L4 21.41c.39.39.9.59 1.41.59.51 0 1.02-.2 1.41-.59l7.78-7.78 2.81-2.81c.8-.78.8-2.07 0-2.86zM5.41 20L4 18.59l7.72-7.72 1.47 1.35L5.41 20z\"/>\n",
              "  </svg>\n",
              "      </button>\n",
              "      \n",
              "  <style>\n",
              "    .colab-df-container {\n",
              "      display:flex;\n",
              "      flex-wrap:wrap;\n",
              "      gap: 12px;\n",
              "    }\n",
              "\n",
              "    .colab-df-convert {\n",
              "      background-color: #E8F0FE;\n",
              "      border: none;\n",
              "      border-radius: 50%;\n",
              "      cursor: pointer;\n",
              "      display: none;\n",
              "      fill: #1967D2;\n",
              "      height: 32px;\n",
              "      padding: 0 0 0 0;\n",
              "      width: 32px;\n",
              "    }\n",
              "\n",
              "    .colab-df-convert:hover {\n",
              "      background-color: #E2EBFA;\n",
              "      box-shadow: 0px 1px 2px rgba(60, 64, 67, 0.3), 0px 1px 3px 1px rgba(60, 64, 67, 0.15);\n",
              "      fill: #174EA6;\n",
              "    }\n",
              "\n",
              "    [theme=dark] .colab-df-convert {\n",
              "      background-color: #3B4455;\n",
              "      fill: #D2E3FC;\n",
              "    }\n",
              "\n",
              "    [theme=dark] .colab-df-convert:hover {\n",
              "      background-color: #434B5C;\n",
              "      box-shadow: 0px 1px 3px 1px rgba(0, 0, 0, 0.15);\n",
              "      filter: drop-shadow(0px 1px 2px rgba(0, 0, 0, 0.3));\n",
              "      fill: #FFFFFF;\n",
              "    }\n",
              "  </style>\n",
              "\n",
              "      <script>\n",
              "        const buttonEl =\n",
              "          document.querySelector('#df-826cf433-c41f-402c-aa8f-d9db7fa1b8f9 button.colab-df-convert');\n",
              "        buttonEl.style.display =\n",
              "          google.colab.kernel.accessAllowed ? 'block' : 'none';\n",
              "\n",
              "        async function convertToInteractive(key) {\n",
              "          const element = document.querySelector('#df-826cf433-c41f-402c-aa8f-d9db7fa1b8f9');\n",
              "          const dataTable =\n",
              "            await google.colab.kernel.invokeFunction('convertToInteractive',\n",
              "                                                     [key], {});\n",
              "          if (!dataTable) return;\n",
              "\n",
              "          const docLinkHtml = 'Like what you see? Visit the ' +\n",
              "            '<a target=\"_blank\" href=https://colab.research.google.com/notebooks/data_table.ipynb>data table notebook</a>'\n",
              "            + ' to learn more about interactive tables.';\n",
              "          element.innerHTML = '';\n",
              "          dataTable['output_type'] = 'display_data';\n",
              "          await google.colab.output.renderOutput(dataTable, element);\n",
              "          const docLink = document.createElement('div');\n",
              "          docLink.innerHTML = docLinkHtml;\n",
              "          element.appendChild(docLink);\n",
              "        }\n",
              "      </script>\n",
              "    </div>\n",
              "  </div>\n",
              "  "
            ],
            "text/plain": [
              "        br_njets  br_nbjets  ...  br_operator_14  outcome\n",
              "entry                        ...                         \n",
              "137514         5          2  ...    4.460551e+09        1\n",
              "7462           8          2  ...   -2.417272e+09        1\n",
              "50407          4          2  ...   -6.080721e+08        1\n",
              "131428         6          2  ...   -2.905416e+10        1\n",
              "157654         5          3  ...    2.145621e+10        1\n",
              "...          ...        ...  ...             ...      ...\n",
              "160284         7          4  ...   -5.241399e+09        1\n",
              "186688         5          3  ...   -2.035121e+09        1\n",
              "136263         5          2  ...    7.523881e+09        1\n",
              "95911          5          2  ...   -9.233859e+09        1\n",
              "9249           6          2  ...   -3.439825e+09        1\n",
              "\n",
              "[205226 rows x 24 columns]"
            ]
          },
          "metadata": {},
          "execution_count": 5
        }
      ],
      "source": [
        "df_sig.sample(frac = 1)\n"
      ]
    },
    {
      "cell_type": "code",
      "execution_count": null,
      "metadata": {
        "id": "GxPUUeD1tFkc",
        "scrolled": true,
        "colab": {
          "base_uri": "https://localhost:8080/",
          "height": 1000
        },
        "outputId": "38da5cea-27a0-416d-94e3-6b6351c9ccd4"
      },
      "outputs": [
        {
          "output_type": "stream",
          "name": "stderr",
          "text": [
            "/usr/local/lib/python3.7/dist-packages/numpy/lib/histograms.py:905: RuntimeWarning: invalid value encountered in true_divide\n",
            "  return n/db/n.sum(), bin_edges\n"
          ]
        },
        {
          "output_type": "display_data",
          "data": {
            "image/png": "[encoded data removed]",
            "text/plain": [
              "<Figure size 1080x1080 with 19 Axes>"
            ]
          },
          "metadata": {
            "needs_background": "light"
          }
        }
      ],
      "source": [
        "plt.rcParams[\"figure.figsize\"]=(15,15)\n",
        "for i, key in enumerate(df_sig.keys()):\n",
        "  if \"operator\" not in key:\n",
        "    plt.subplot(5,5,i+1)\n",
        "    _,bins,_=plt.hist(df_sig[key], bins='auto', density=True, color=\"r\", alpha=0.5, label='signal')\n",
        "    plt.xlabel(key)\n",
        "    plt.hist(df_bkg[key], bins=bins, density=True, color=\"b\", alpha=0.5, label='background')\n",
        "    plt.legend(loc='best')\n",
        "    plt.title(key.replace('br_',''))\n",
        "    plt.xlabel(key.replace('br_',''))\n",
        "    plt.tight_layout()"
      ]
    },
    {
      "cell_type": "code",
      "execution_count": null,
      "metadata": {
        "id": "Bo_mDg0jJ8EA"
      },
      "outputs": [],
      "source": [
        "from sklearn import utils\n",
        "from tensorflow.keras.utils import to_categorical\n",
        "\n",
        "frames=[df_sig, df_bkg]\n",
        "result=pd.concat(frames)\n",
        "df = utils.shuffle(result)"
      ]
    },
    {
      "cell_type": "code",
      "execution_count": null,
      "metadata": {
        "id": "GtTiobhXsFOC"
      },
      "outputs": [],
      "source": [
        "\n",
        "x = df[df.keys()[:-1]].values\n",
        "y = df[df.keys()[-1]].values\n",
        "y.reshape(1046977,1)\n",
        "\n",
        "\n",
        "\n",
        "from sklearn.preprocessing import StandardScaler, MinMaxScaler\n",
        "\n",
        "scaler = StandardScaler().fit(x)\n",
        "x = scaler.transform(x)\n",
        "\n",
        "\n",
        "\n"
      ]
    },
    {
      "cell_type": "markdown",
      "source": [
        "# Classical Methods"
      ],
      "metadata": {
        "id": "05RioutTg2BW"
      }
    },
    {
      "cell_type": "markdown",
      "metadata": {
        "id": "iBdDxApQDaJ2"
      },
      "source": [
        "## 1- Linear Regression"
      ]
    },
    {
      "cell_type": "code",
      "source": [
        "from sklearn.linear_model import LinearRegression\n",
        "\n",
        "lin = LinearRegression().fit(x, y)\n",
        "lin.predict(x)\n",
        "lin.score(x, y)"
      ],
      "metadata": {
        "colab": {
          "base_uri": "https://localhost:8080/",
          "height": 235
        },
        "id": "2UdfraeQLqjW",
        "outputId": "80a9ac7c-11f9-4d8d-f0e0-505afbe6829e"
      },
      "execution_count": null,
      "outputs": [
        {
          "output_type": "error",
          "ename": "NameError",
          "evalue": "ignored",
          "traceback": [
            "\u001b[0;31m---------------------------------------------------------------------------\u001b[0m",
            "\u001b[0;31mNameError\u001b[0m                                 Traceback (most recent call last)",
            "\u001b[0;32m<ipython-input-1-4a3e7664014a>\u001b[0m in \u001b[0;36m<module>\u001b[0;34m\u001b[0m\n\u001b[1;32m      1\u001b[0m \u001b[0;32mfrom\u001b[0m \u001b[0msklearn\u001b[0m\u001b[0;34m.\u001b[0m\u001b[0mlinear_model\u001b[0m \u001b[0;32mimport\u001b[0m \u001b[0mLinearRegression\u001b[0m\u001b[0;34m\u001b[0m\u001b[0;34m\u001b[0m\u001b[0m\n\u001b[1;32m      2\u001b[0m \u001b[0;34m\u001b[0m\u001b[0m\n\u001b[0;32m----> 3\u001b[0;31m \u001b[0mlin\u001b[0m \u001b[0;34m=\u001b[0m \u001b[0mLinearRegression\u001b[0m\u001b[0;34m(\u001b[0m\u001b[0;34m)\u001b[0m\u001b[0;34m.\u001b[0m\u001b[0mfit\u001b[0m\u001b[0;34m(\u001b[0m\u001b[0mx\u001b[0m\u001b[0;34m,\u001b[0m \u001b[0my\u001b[0m\u001b[0;34m)\u001b[0m\u001b[0;34m\u001b[0m\u001b[0;34m\u001b[0m\u001b[0m\n\u001b[0m\u001b[1;32m      4\u001b[0m \u001b[0mlin\u001b[0m\u001b[0;34m.\u001b[0m\u001b[0mpredict\u001b[0m\u001b[0;34m(\u001b[0m\u001b[0mx\u001b[0m\u001b[0;34m)\u001b[0m\u001b[0;34m\u001b[0m\u001b[0;34m\u001b[0m\u001b[0m\n\u001b[1;32m      5\u001b[0m \u001b[0mlin\u001b[0m\u001b[0;34m.\u001b[0m\u001b[0mscore\u001b[0m\u001b[0;34m(\u001b[0m\u001b[0mx\u001b[0m\u001b[0;34m,\u001b[0m \u001b[0my\u001b[0m\u001b[0;34m)\u001b[0m\u001b[0;34m\u001b[0m\u001b[0;34m\u001b[0m\u001b[0m\n",
            "\u001b[0;31mNameError\u001b[0m: name 'x' is not defined"
          ]
        }
      ]
    },
    {
      "cell_type": "markdown",
      "source": [
        "## 2- Logistic Regression\n"
      ],
      "metadata": {
        "id": "kkPMBVf-MxOl"
      }
    },
    {
      "cell_type": "code",
      "source": [
        "from sklearn.linear_model import LogisticRegression\n",
        "\n",
        "log = LogisticRegression(random_state=0).fit(x, y)\n",
        "log.predict(x[:2, :])\n",
        "log.predict_proba(x[:2, :])\n",
        "log.score(x, y)"
      ],
      "metadata": {
        "id": "ubGclXT6bETo"
      },
      "execution_count": null,
      "outputs": []
    },
    {
      "cell_type": "markdown",
      "source": [
        "## 3- K- Nearest Neighbors\n",
        "\n",
        "\n",
        "\n"
      ],
      "metadata": {
        "id": "ClWO1DNkYeiY"
      }
    },
    {
      "cell_type": "code",
      "execution_count": null,
      "metadata": {
        "id": "DTCgOC8k0AYy"
      },
      "outputs": [],
      "source": [
        "from sklearn.neighbors import KNeighborsClassifier\n",
        "\n",
        "neigh = KNeighborsClassifier(n_neighbors=10)\n",
        "neigh.fit(x[:100, :], y[:100])\n",
        "neigh.predict_proba(x[:100, :])\n",
        "neigh.score(x, y,sample_weight=None)"
      ]
    },
    {
      "cell_type": "markdown",
      "source": [
        "## 4- Naive Bayes Classifier"
      ],
      "metadata": {
        "id": "p4wWhGTScPAW"
      }
    },
    {
      "cell_type": "code",
      "execution_count": null,
      "metadata": {
        "id": "WENXBggFm2EH"
      },
      "outputs": [],
      "source": [
        "from sklearn.naive_bayes import GaussianNB\n",
        "bay = GaussianNB()\n",
        "bay.fit(x, y)\n",
        "GaussianNB()\n",
        "bay.score(x,y)"
      ]
    },
    {
      "cell_type": "markdown",
      "source": [
        "## 5- Support Vector Classificiation"
      ],
      "metadata": {
        "id": "FFBPZgbKgr2M"
      }
    },
    {
      "cell_type": "code",
      "source": [
        "from sklearn.pipeline import make_pipeline\n",
        "from sklearn.preprocessing import StandardScaler\n",
        "from sklearn.svm import SVC\n",
        "clf = make_pipeline(StandardScaler(), SVC(gamma='auto'))\n",
        "clf.fit(x[:100, :], y[:100])\n",
        "\n",
        "clf.score(x,y)"
      ],
      "metadata": {
        "id": "1WKc1i1FdHA3"
      },
      "execution_count": null,
      "outputs": []
    },
    {
      "cell_type": "markdown",
      "source": [
        "Looking at these results Logistic regression being the best one, SVC and k-nearest neigbourhood methods follow it up closely. We see naive bayes method is not a good fit for this task. And linear regression might be too simple for a task like this."
      ],
      "metadata": {
        "id": "tpj2ApKRg9S8"
      }
    },
    {
      "cell_type": "markdown",
      "metadata": {
        "id": "MMwPYaIH2O39"
      },
      "source": [
        "# Build DNN Model"
      ]
    },
    {
      "cell_type": "code",
      "execution_count": null,
      "metadata": {
        "id": "2SoSmnB301uV"
      },
      "outputs": [],
      "source": [
        "import keras\n",
        "\n",
        "from keras.layers import Dense, BatchNormalization\n",
        "\n",
        "y=to_categorical(y,num_classes=0)\n",
        "from sklearn.model_selection import train_test_split\n",
        "x_train, x_test, y_train, y_test = train_test_split(x, y, train_size=0.7, shuffle=True)"
      ]
    },
    {
      "cell_type": "code",
      "execution_count": null,
      "metadata": {
        "id": "EWepjOUg308i"
      },
      "outputs": [],
      "source": [
        "from IPython.display import clear_output\n",
        "class PlotLearning(keras.callbacks.Callback):\n",
        "    \n",
        "    def on_train_begin(self, logs={}):\n",
        "        self.i = 0\n",
        "        self.x = []\n",
        "        self.losses = []\n",
        "        self.val_losses = []\n",
        "        self.acc = []\n",
        "        self.val_acc = []\n",
        "        self.fig = plt.figure()\n",
        "        \n",
        "        self.logs = []\n",
        "\n",
        "    def on_epoch_end(self, epoch, logs={}):\n",
        "\n",
        "        self.logs.append(logs)\n",
        "        self.x.append(self.i)\n",
        "        self.losses.append(logs.get('loss'))\n",
        "        self.val_losses.append(logs.get('val_loss'))\n",
        "        self.acc.append(logs.get('accuracy'))\n",
        "        self.val_acc.append(logs.get('val_accuracy'))\n",
        "        self.i += 1\n",
        "        f, (ax1, ax2) = plt.subplots(1, 2, sharex=True, figsize=(10,5))\n",
        "        \n",
        "        clear_output(wait=True)\n",
        "        \n",
        "        ax1.set_yscale('log')\n",
        "        ax1.plot(self.x, self.losses, label=\"loss\")\n",
        "        ax1.plot(self.x, self.val_losses, label=\"val_loss\")\n",
        "        ax1.legend()\n",
        "        ax1.set_yscale(\"log\")\n",
        "        \n",
        "        ax2.plot(self.x, self.acc, label=\"accuracy({:.1f}%)\".format(100*self.acc[-1]))\n",
        "        \n",
        "        max_acc = max(self.acc)\n",
        "        \n",
        "        ax2.plot(self.x, len(self.x)*[max_acc], 'b--', label=\"max acc. attained ({:.1f}%)\".format(100*max_acc))\n",
        "\n",
        "        ax2.plot(self.x, self.val_acc, label=\"validation accuracy({:.1f}%)\".format(100*self.val_acc[-1]))\n",
        "        \n",
        "        max_val_acc = max(self.val_acc)\n",
        "        \n",
        "        ax2.plot(self.x, len(self.x)*[max_val_acc], 'g--', label=\"max val. acc. attained ({:.1f}%)\".format(100*max_val_acc))\n",
        "        \n",
        "        ax2.legend(loc=\"lower right\")\n",
        "        plt.show()\n",
        "        \n",
        "plot = PlotLearning()"
      ]
    },
    {
      "cell_type": "code",
      "execution_count": null,
      "metadata": {
        "id": "LIa3RCeZ1yjo"
      },
      "outputs": [],
      "source": [
        "def build_model():\n",
        "    \n",
        "    model = keras.Sequential()\n",
        "    \n",
        "    model.add(Dense(32, activation='relu'))\n",
        "    model.add(Dense(16, activation='relu'))\n",
        "    model.add(Dense(2, activation='softmax'))\n",
        "    \n",
        "    model.compile(optimizer='Adam', loss='mse', metrics=['accuracy'])\n",
        "\n",
        "    return model"
      ]
    },
    {
      "cell_type": "code",
      "execution_count": null,
      "metadata": {
        "id": "iU0RZ8K_9Wrm",
        "colab": {
          "base_uri": "https://localhost:8080/",
          "height": 355
        },
        "outputId": "3a5c0335-6ad3-42b3-f913-17289a0cff91"
      },
      "outputs": [
        {
          "output_type": "display_data",
          "data": {
            "image/png": "[encoded data removed]",
            "text/plain": [
              "<Figure size 720x360 with 2 Axes>"
            ]
          },
          "metadata": {
            "needs_background": "light"
          }
        },
        {
          "output_type": "stream",
          "name": "stdout",
          "text": [
            "\b\b\b\b\b\b\b\b\b\b\b\b\b\b\b\b\b\b\b\b\b\b\b\b\b\b\b\b\b\b\b\b\b\b\b\b\b\b\b\b\b\b\b\b\b\b\b\b\b\b\b\b\b\b\b\b\b\b\b\b\b\b\b\b\b\b\b\b\b\b\b\b\b\b\b\b\b\b\b\b\b\b\b\b\r245/245 [==============================] - 2s 9ms/step - loss: 0.1140 - accuracy: 0.8401 - val_loss: 0.1150 - val_accuracy: 0.8387\n"
          ]
        },
        {
          "output_type": "execute_result",
          "data": {
            "text/plain": [
              "<keras.callbacks.History at 0x7f6453151490>"
            ]
          },
          "metadata": {},
          "execution_count": 26
        }
      ],
      "source": [
        "model1 = build_model()\n",
        "model1.fit(x_train, y_train, batch_size=3000, epochs=120, validation_data=(x_test, y_test), callbacks=[PlotLearning()])"
      ]
    },
    {
      "cell_type": "markdown",
      "source": [
        "The result of the deep neural network is only slightly better than the logistic regression result. There is only 2% difference, but the time spent training the network is much larger. So it might be better to use logistic regression in this case."
      ],
      "metadata": {
        "id": "Vi1hZx-W6P2h"
      }
    }
  ],
  "metadata": {
    "colab": {
      "provenance": []
    },
    "kernelspec": {
      "display_name": "Python 3",
      "language": "python",
      "name": "python3"
    },
    "language_info": {
      "codemirror_mode": {
        "name": "ipython",
        "version": 3
      },
      "file_extension": ".py",
      "mimetype": "text/x-python",
      "name": "python",
      "nbconvert_exporter": "python",
      "pygments_lexer": "ipython3",
      "version": "3.8.6"
    }
  },
  "nbformat": 4,
  "nbformat_minor": 0
}